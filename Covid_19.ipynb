{
 "cells": [
  {
   "cell_type": "markdown",
   "metadata": {},
   "source": [
    "# Importing the libraries"
   ]
  },
  {
   "cell_type": "code",
   "execution_count": 1,
   "metadata": {},
   "outputs": [],
   "source": [
    "import numpy as np\n",
    "import matplotlib.pyplot as plt\n",
    "import pandas as pd"
   ]
  },
  {
   "cell_type": "markdown",
   "metadata": {},
   "source": [
    "# Importing the dataset"
   ]
  },
  {
   "cell_type": "code",
   "execution_count": 2,
   "metadata": {},
   "outputs": [],
   "source": [
    "dataset = pd.read_csv('coroml.csv')\n",
    "X = dataset.iloc[:, :-1].values\n",
    "y = dataset.iloc[:, -1].values"
   ]
  },
  {
   "cell_type": "code",
   "execution_count": 3,
   "metadata": {},
   "outputs": [
    {
     "data": {
      "text/html": [
       "<div>\n",
       "<style scoped>\n",
       "    .dataframe tbody tr th:only-of-type {\n",
       "        vertical-align: middle;\n",
       "    }\n",
       "\n",
       "    .dataframe tbody tr th {\n",
       "        vertical-align: top;\n",
       "    }\n",
       "\n",
       "    .dataframe thead th {\n",
       "        text-align: right;\n",
       "    }\n",
       "</style>\n",
       "<table border=\"1\" class=\"dataframe\">\n",
       "  <thead>\n",
       "    <tr style=\"text-align: right;\">\n",
       "      <th></th>\n",
       "      <th>Patient ID</th>\n",
       "      <th>Patient age quantile</th>\n",
       "      <th>Hematocrit</th>\n",
       "      <th>Hemoglobin</th>\n",
       "      <th>Platelets</th>\n",
       "      <th>Mean platelet volume</th>\n",
       "      <th>Red blood Cells</th>\n",
       "      <th>Lymphocytes</th>\n",
       "      <th>Mean corpuscular hemoglobin concentration (MCHC)</th>\n",
       "      <th>Leukocytes</th>\n",
       "      <th>Basophils</th>\n",
       "      <th>Mean corpuscular hemoglobin (MCH)</th>\n",
       "      <th>Eosinophils</th>\n",
       "      <th>Mean corpuscular volume (MCV)</th>\n",
       "      <th>Monocytes</th>\n",
       "      <th>Red blood cell distribution width (RDW)</th>\n",
       "      <th>SARS-Cov-2 exam result(Negative=0,Positive=1)</th>\n",
       "    </tr>\n",
       "  </thead>\n",
       "  <tbody>\n",
       "    <tr>\n",
       "      <th>0</th>\n",
       "      <td>1000</td>\n",
       "      <td>16</td>\n",
       "      <td>-0.701917</td>\n",
       "      <td>-0.460932</td>\n",
       "      <td>0.437284</td>\n",
       "      <td>-0.662483</td>\n",
       "      <td>-0.814774</td>\n",
       "      <td>0.668057</td>\n",
       "      <td>0.841616</td>\n",
       "      <td>-0.489767</td>\n",
       "      <td>0.387152</td>\n",
       "      <td>0.753163</td>\n",
       "      <td>-0.371974</td>\n",
       "      <td>0.386517</td>\n",
       "      <td>0.462600</td>\n",
       "      <td>0.967144</td>\n",
       "      <td>0</td>\n",
       "    </tr>\n",
       "    <tr>\n",
       "      <th>1</th>\n",
       "      <td>1001</td>\n",
       "      <td>0</td>\n",
       "      <td>-0.862136</td>\n",
       "      <td>-0.648900</td>\n",
       "      <td>1.630656</td>\n",
       "      <td>0.347255</td>\n",
       "      <td>-1.255533</td>\n",
       "      <td>2.928253</td>\n",
       "      <td>0.742040</td>\n",
       "      <td>-0.431328</td>\n",
       "      <td>-0.529226</td>\n",
       "      <td>1.328151</td>\n",
       "      <td>1.566437</td>\n",
       "      <td>1.127610</td>\n",
       "      <td>1.014127</td>\n",
       "      <td>1.674795</td>\n",
       "      <td>0</td>\n",
       "    </tr>\n",
       "    <tr>\n",
       "      <th>2</th>\n",
       "      <td>1002</td>\n",
       "      <td>3</td>\n",
       "      <td>-1.823456</td>\n",
       "      <td>-1.902020</td>\n",
       "      <td>0.248857</td>\n",
       "      <td>1.132609</td>\n",
       "      <td>-1.608140</td>\n",
       "      <td>0.506005</td>\n",
       "      <td>-0.950790</td>\n",
       "      <td>-0.013909</td>\n",
       "      <td>-0.223767</td>\n",
       "      <td>-0.501356</td>\n",
       "      <td>-0.371974</td>\n",
       "      <td>-0.094192</td>\n",
       "      <td>-0.272770</td>\n",
       "      <td>-0.094334</td>\n",
       "      <td>0</td>\n",
       "    </tr>\n",
       "    <tr>\n",
       "      <th>3</th>\n",
       "      <td>1003</td>\n",
       "      <td>7</td>\n",
       "      <td>1.243612</td>\n",
       "      <td>0.980156</td>\n",
       "      <td>0.198610</td>\n",
       "      <td>0.683835</td>\n",
       "      <td>0.842479</td>\n",
       "      <td>1.230973</td>\n",
       "      <td>-0.652057</td>\n",
       "      <td>-1.065805</td>\n",
       "      <td>1.914447</td>\n",
       "      <td>0.125903</td>\n",
       "      <td>2.493503</td>\n",
       "      <td>0.446606</td>\n",
       "      <td>-0.798034</td>\n",
       "      <td>0.171035</td>\n",
       "      <td>0</td>\n",
       "    </tr>\n",
       "    <tr>\n",
       "      <th>4</th>\n",
       "      <td>1004</td>\n",
       "      <td>7</td>\n",
       "      <td>1.266501</td>\n",
       "      <td>1.168124</td>\n",
       "      <td>-0.190806</td>\n",
       "      <td>0.908221</td>\n",
       "      <td>0.824849</td>\n",
       "      <td>0.497476</td>\n",
       "      <td>-0.054585</td>\n",
       "      <td>-0.325582</td>\n",
       "      <td>1.608988</td>\n",
       "      <td>0.439533</td>\n",
       "      <td>0.091559</td>\n",
       "      <td>0.526723</td>\n",
       "      <td>-0.430350</td>\n",
       "      <td>-0.978899</td>\n",
       "      <td>0</td>\n",
       "    </tr>\n",
       "    <tr>\n",
       "      <th>...</th>\n",
       "      <td>...</td>\n",
       "      <td>...</td>\n",
       "      <td>...</td>\n",
       "      <td>...</td>\n",
       "      <td>...</td>\n",
       "      <td>...</td>\n",
       "      <td>...</td>\n",
       "      <td>...</td>\n",
       "      <td>...</td>\n",
       "      <td>...</td>\n",
       "      <td>...</td>\n",
       "      <td>...</td>\n",
       "      <td>...</td>\n",
       "      <td>...</td>\n",
       "      <td>...</td>\n",
       "      <td>...</td>\n",
       "      <td>...</td>\n",
       "    </tr>\n",
       "    <tr>\n",
       "      <th>597</th>\n",
       "      <td>1598</td>\n",
       "      <td>18</td>\n",
       "      <td>1.197836</td>\n",
       "      <td>1.356092</td>\n",
       "      <td>-1.911774</td>\n",
       "      <td>1.132609</td>\n",
       "      <td>0.384090</td>\n",
       "      <td>0.966573</td>\n",
       "      <td>0.841616</td>\n",
       "      <td>-0.834833</td>\n",
       "      <td>-0.529226</td>\n",
       "      <td>1.589509</td>\n",
       "      <td>-0.582671</td>\n",
       "      <td>1.307876</td>\n",
       "      <td>1.197969</td>\n",
       "      <td>-0.094334</td>\n",
       "      <td>1</td>\n",
       "    </tr>\n",
       "    <tr>\n",
       "      <th>598</th>\n",
       "      <td>1599</td>\n",
       "      <td>19</td>\n",
       "      <td>0.190738</td>\n",
       "      <td>0.165628</td>\n",
       "      <td>-0.102873</td>\n",
       "      <td>0.908221</td>\n",
       "      <td>0.384090</td>\n",
       "      <td>-1.583611</td>\n",
       "      <td>-0.054585</td>\n",
       "      <td>-0.328365</td>\n",
       "      <td>-0.834685</td>\n",
       "      <td>-0.449085</td>\n",
       "      <td>0.892207</td>\n",
       "      <td>-0.474754</td>\n",
       "      <td>1.066653</td>\n",
       "      <td>0.347948</td>\n",
       "      <td>0</td>\n",
       "    </tr>\n",
       "    <tr>\n",
       "      <th>599</th>\n",
       "      <td>1600</td>\n",
       "      <td>19</td>\n",
       "      <td>-0.289922</td>\n",
       "      <td>-0.523588</td>\n",
       "      <td>0.663397</td>\n",
       "      <td>-0.774677</td>\n",
       "      <td>0.754327</td>\n",
       "      <td>-1.532437</td>\n",
       "      <td>-1.050367</td>\n",
       "      <td>1.569499</td>\n",
       "      <td>0.081693</td>\n",
       "      <td>-2.174047</td>\n",
       "      <td>-0.540532</td>\n",
       "      <td>-1.976971</td>\n",
       "      <td>1.670707</td>\n",
       "      <td>0.967144</td>\n",
       "      <td>0</td>\n",
       "    </tr>\n",
       "    <tr>\n",
       "      <th>600</th>\n",
       "      <td>1601</td>\n",
       "      <td>15</td>\n",
       "      <td>0.717175</td>\n",
       "      <td>1.105468</td>\n",
       "      <td>-0.492289</td>\n",
       "      <td>-0.213711</td>\n",
       "      <td>0.613284</td>\n",
       "      <td>0.002791</td>\n",
       "      <td>1.538664</td>\n",
       "      <td>-0.550988</td>\n",
       "      <td>-0.223767</td>\n",
       "      <td>0.700891</td>\n",
       "      <td>-0.709090</td>\n",
       "      <td>0.005955</td>\n",
       "      <td>0.909074</td>\n",
       "      <td>-1.155812</td>\n",
       "      <td>0</td>\n",
       "    </tr>\n",
       "    <tr>\n",
       "      <th>601</th>\n",
       "      <td>1602</td>\n",
       "      <td>19</td>\n",
       "      <td>0.694287</td>\n",
       "      <td>0.541564</td>\n",
       "      <td>-0.906829</td>\n",
       "      <td>-0.325903</td>\n",
       "      <td>0.578024</td>\n",
       "      <td>-0.295726</td>\n",
       "      <td>-0.353319</td>\n",
       "      <td>-1.288428</td>\n",
       "      <td>-1.140144</td>\n",
       "      <td>-0.135455</td>\n",
       "      <td>-0.835508</td>\n",
       "      <td>0.025985</td>\n",
       "      <td>0.567652</td>\n",
       "      <td>-0.182790</td>\n",
       "      <td>1</td>\n",
       "    </tr>\n",
       "  </tbody>\n",
       "</table>\n",
       "<p>602 rows × 17 columns</p>\n",
       "</div>"
      ],
      "text/plain": [
       "     Patient ID  Patient age quantile  Hematocrit  Hemoglobin  Platelets  \\\n",
       "0          1000                    16   -0.701917   -0.460932   0.437284   \n",
       "1          1001                     0   -0.862136   -0.648900   1.630656   \n",
       "2          1002                     3   -1.823456   -1.902020   0.248857   \n",
       "3          1003                     7    1.243612    0.980156   0.198610   \n",
       "4          1004                     7    1.266501    1.168124  -0.190806   \n",
       "..          ...                   ...         ...         ...        ...   \n",
       "597        1598                    18    1.197836    1.356092  -1.911774   \n",
       "598        1599                    19    0.190738    0.165628  -0.102873   \n",
       "599        1600                    19   -0.289922   -0.523588   0.663397   \n",
       "600        1601                    15    0.717175    1.105468  -0.492289   \n",
       "601        1602                    19    0.694287    0.541564  -0.906829   \n",
       "\n",
       "     Mean platelet volume   Red blood Cells  Lymphocytes  \\\n",
       "0                -0.662483        -0.814774     0.668057   \n",
       "1                 0.347255        -1.255533     2.928253   \n",
       "2                 1.132609        -1.608140     0.506005   \n",
       "3                 0.683835         0.842479     1.230973   \n",
       "4                 0.908221         0.824849     0.497476   \n",
       "..                     ...              ...          ...   \n",
       "597               1.132609         0.384090     0.966573   \n",
       "598               0.908221         0.384090    -1.583611   \n",
       "599              -0.774677         0.754327    -1.532437   \n",
       "600              -0.213711         0.613284     0.002791   \n",
       "601              -0.325903         0.578024    -0.295726   \n",
       "\n",
       "     Mean corpuscular hemoglobin concentration (MCHC)  Leukocytes  Basophils  \\\n",
       "0                                            0.841616   -0.489767   0.387152   \n",
       "1                                            0.742040   -0.431328  -0.529226   \n",
       "2                                           -0.950790   -0.013909  -0.223767   \n",
       "3                                           -0.652057   -1.065805   1.914447   \n",
       "4                                           -0.054585   -0.325582   1.608988   \n",
       "..                                                ...         ...        ...   \n",
       "597                                          0.841616   -0.834833  -0.529226   \n",
       "598                                         -0.054585   -0.328365  -0.834685   \n",
       "599                                         -1.050367    1.569499   0.081693   \n",
       "600                                          1.538664   -0.550988  -0.223767   \n",
       "601                                         -0.353319   -1.288428  -1.140144   \n",
       "\n",
       "     Mean corpuscular hemoglobin (MCH)  Eosinophils  \\\n",
       "0                             0.753163    -0.371974   \n",
       "1                             1.328151     1.566437   \n",
       "2                            -0.501356    -0.371974   \n",
       "3                             0.125903     2.493503   \n",
       "4                             0.439533     0.091559   \n",
       "..                                 ...          ...   \n",
       "597                           1.589509    -0.582671   \n",
       "598                          -0.449085     0.892207   \n",
       "599                          -2.174047    -0.540532   \n",
       "600                           0.700891    -0.709090   \n",
       "601                          -0.135455    -0.835508   \n",
       "\n",
       "     Mean corpuscular volume (MCV)  Monocytes  \\\n",
       "0                         0.386517   0.462600   \n",
       "1                         1.127610   1.014127   \n",
       "2                        -0.094192  -0.272770   \n",
       "3                         0.446606  -0.798034   \n",
       "4                         0.526723  -0.430350   \n",
       "..                             ...        ...   \n",
       "597                       1.307876   1.197969   \n",
       "598                      -0.474754   1.066653   \n",
       "599                      -1.976971   1.670707   \n",
       "600                       0.005955   0.909074   \n",
       "601                       0.025985   0.567652   \n",
       "\n",
       "     Red blood cell distribution width (RDW)  \\\n",
       "0                                   0.967144   \n",
       "1                                   1.674795   \n",
       "2                                  -0.094334   \n",
       "3                                   0.171035   \n",
       "4                                  -0.978899   \n",
       "..                                       ...   \n",
       "597                                -0.094334   \n",
       "598                                 0.347948   \n",
       "599                                 0.967144   \n",
       "600                                -1.155812   \n",
       "601                                -0.182790   \n",
       "\n",
       "     SARS-Cov-2 exam result(Negative=0,Positive=1)  \n",
       "0                                                0  \n",
       "1                                                0  \n",
       "2                                                0  \n",
       "3                                                0  \n",
       "4                                                0  \n",
       "..                                             ...  \n",
       "597                                              1  \n",
       "598                                              0  \n",
       "599                                              0  \n",
       "600                                              0  \n",
       "601                                              1  \n",
       "\n",
       "[602 rows x 17 columns]"
      ]
     },
     "execution_count": 3,
     "metadata": {},
     "output_type": "execute_result"
    }
   ],
   "source": [
    "dataset"
   ]
  },
  {
   "cell_type": "code",
   "execution_count": 4,
   "metadata": {},
   "outputs": [],
   "source": [
    "# Taking care of missing data\n",
    "from sklearn.impute import SimpleImputer \n",
    "imputer = SimpleImputer(missing_values=np.nan, strategy='mean')\n",
    "imputer = imputer.fit(X[:, :-1])\n",
    "X[:, :-1] = imputer.transform(X[:, :-1])"
   ]
  },
  {
   "cell_type": "code",
   "execution_count": 5,
   "metadata": {},
   "outputs": [],
   "source": [
    "# Splitting the dataset into the Training set and Test set\n",
    "from sklearn.model_selection import train_test_split\n",
    "X_train, X_test, y_train, y_test = train_test_split(X, y, test_size = 0.20, random_state = 0)"
   ]
  },
  {
   "cell_type": "code",
   "execution_count": 6,
   "metadata": {},
   "outputs": [],
   "source": [
    "# Feature Scaling\n",
    "from sklearn.preprocessing import StandardScaler\n",
    "sc = StandardScaler()\n",
    "X_train = sc.fit_transform(X_train)\n",
    "X_test = sc.transform(X_test)"
   ]
  },
  {
   "cell_type": "markdown",
   "metadata": {},
   "source": [
    "# Naive Bayes "
   ]
  },
  {
   "cell_type": "code",
   "execution_count": 7,
   "metadata": {},
   "outputs": [
    {
     "data": {
      "text/plain": [
       "GaussianNB(priors=None, var_smoothing=1e-09)"
      ]
     },
     "execution_count": 7,
     "metadata": {},
     "output_type": "execute_result"
    }
   ],
   "source": [
    "# Fitting Naive Bayes to the Training set\n",
    "from sklearn.naive_bayes import GaussianNB\n",
    "classifier = GaussianNB()\n",
    "classifier.fit(X_train, y_train)"
   ]
  },
  {
   "cell_type": "code",
   "execution_count": 8,
   "metadata": {},
   "outputs": [],
   "source": [
    "# Predicting the Test set results\n",
    "y_pred = (classifier.predict_proba(X_test)[:,1] >= 0.7)"
   ]
  },
  {
   "cell_type": "code",
   "execution_count": 9,
   "metadata": {},
   "outputs": [
    {
     "data": {
      "text/plain": [
       "array([[95, 10],\n",
       "       [ 6, 10]], dtype=int64)"
      ]
     },
     "execution_count": 9,
     "metadata": {},
     "output_type": "execute_result"
    }
   ],
   "source": [
    "# Making the Confusion Matrix\n",
    "from sklearn.metrics import confusion_matrix\n",
    "cm = confusion_matrix(y_test, y_pred)\n",
    "cm"
   ]
  },
  {
   "cell_type": "code",
   "execution_count": 10,
   "metadata": {},
   "outputs": [
    {
     "data": {
      "text/plain": [
       "0.8677685950413223"
      ]
     },
     "execution_count": 10,
     "metadata": {},
     "output_type": "execute_result"
    }
   ],
   "source": [
    "def accuracy(confusion_matrix):\n",
    "    diagonal_sum = confusion_matrix.trace()\n",
    "    sum_of_all_elements = confusion_matrix.sum()\n",
    "    return diagonal_sum / sum_of_all_elements \n",
    "\n",
    "accuracy(cm) "
   ]
  },
  {
   "cell_type": "code",
   "execution_count": 11,
   "metadata": {},
   "outputs": [
    {
     "name": "stdout",
     "output_type": "stream",
     "text": [
      "Confusion matrix, without normalization\n",
      "[[89 16]\n",
      " [ 3 13]]\n",
      "Normalized confusion matrix\n",
      "[[0.84761905 0.15238095]\n",
      " [0.1875     0.8125    ]]\n"
     ]
    },
    {
     "data": {
      "image/png": "[encoded data removed]",
      "text/plain": [
       "<Figure size 432x288 with 2 Axes>"
      ]
     },
     "metadata": {
      "needs_background": "light"
     },
     "output_type": "display_data"
    },
    {
     "data": {
      "image/png": "[encoded data removed]",
      "text/plain": [
       "<Figure size 432x288 with 2 Axes>"
      ]
     },
     "metadata": {
      "needs_background": "light"
     },
     "output_type": "display_data"
    }
   ],
   "source": [
    "# Plot non-normalized confusion matrix\n",
    "from sklearn.metrics import plot_confusion_matrix\n",
    "titles_options = [(\"Confusion matrix, without normalization\", None),\n",
    "                  (\"Normalized confusion matrix\", 'true')]\n",
    "for title, normalize in titles_options:\n",
    "    disp = plot_confusion_matrix(classifier, X_test, y_test,\n",
    "                                 display_labels=[0,1],\n",
    "                                 cmap=plt.cm.Blues,\n",
    "                                 normalize=normalize)\n",
    "    disp.ax_.set_title(title)\n",
    "\n",
    "    print(title)\n",
    "    print(disp.confusion_matrix)\n",
    "\n",
    "plt.show()"
   ]
  },
  {
   "cell_type": "markdown",
   "metadata": {},
   "source": [
    "# Linear Regression "
   ]
  },
  {
   "cell_type": "code",
   "execution_count": 12,
   "metadata": {},
   "outputs": [
    {
     "data": {
      "text/plain": [
       "LinearRegression(copy_X=True, fit_intercept=True, n_jobs=None, normalize=False)"
      ]
     },
     "execution_count": 12,
     "metadata": {},
     "output_type": "execute_result"
    }
   ],
   "source": [
    "from sklearn.linear_model import LinearRegression\n",
    "regressor = LinearRegression()\n",
    "regressor.fit(X_train, y_train)"
   ]
  },
  {
   "cell_type": "code",
   "execution_count": 13,
   "metadata": {},
   "outputs": [],
   "source": [
    "# Predicting the Test set results\n",
    "#y_pred = (regressor.predict_proba(X_test)[:,1] >= 0.7)\n",
    "y_pred = regressor.predict(X_test)"
   ]
  },
  {
   "cell_type": "code",
   "execution_count": 14,
   "metadata": {},
   "outputs": [
    {
     "data": {
      "text/html": [
       "<div>\n",
       "<style scoped>\n",
       "    .dataframe tbody tr th:only-of-type {\n",
       "        vertical-align: middle;\n",
       "    }\n",
       "\n",
       "    .dataframe tbody tr th {\n",
       "        vertical-align: top;\n",
       "    }\n",
       "\n",
       "    .dataframe thead th {\n",
       "        text-align: right;\n",
       "    }\n",
       "</style>\n",
       "<table border=\"1\" class=\"dataframe\">\n",
       "  <thead>\n",
       "    <tr style=\"text-align: right;\">\n",
       "      <th></th>\n",
       "      <th>Actual</th>\n",
       "      <th>Predicted</th>\n",
       "    </tr>\n",
       "  </thead>\n",
       "  <tbody>\n",
       "    <tr>\n",
       "      <th>0</th>\n",
       "      <td>1</td>\n",
       "      <td>0.387003</td>\n",
       "    </tr>\n",
       "    <tr>\n",
       "      <th>1</th>\n",
       "      <td>0</td>\n",
       "      <td>-0.108375</td>\n",
       "    </tr>\n",
       "    <tr>\n",
       "      <th>2</th>\n",
       "      <td>0</td>\n",
       "      <td>0.482515</td>\n",
       "    </tr>\n",
       "    <tr>\n",
       "      <th>3</th>\n",
       "      <td>0</td>\n",
       "      <td>-0.048335</td>\n",
       "    </tr>\n",
       "    <tr>\n",
       "      <th>4</th>\n",
       "      <td>0</td>\n",
       "      <td>-0.172797</td>\n",
       "    </tr>\n",
       "    <tr>\n",
       "      <th>...</th>\n",
       "      <td>...</td>\n",
       "      <td>...</td>\n",
       "    </tr>\n",
       "    <tr>\n",
       "      <th>116</th>\n",
       "      <td>0</td>\n",
       "      <td>0.209869</td>\n",
       "    </tr>\n",
       "    <tr>\n",
       "      <th>117</th>\n",
       "      <td>0</td>\n",
       "      <td>0.325015</td>\n",
       "    </tr>\n",
       "    <tr>\n",
       "      <th>118</th>\n",
       "      <td>0</td>\n",
       "      <td>-0.106579</td>\n",
       "    </tr>\n",
       "    <tr>\n",
       "      <th>119</th>\n",
       "      <td>0</td>\n",
       "      <td>0.066409</td>\n",
       "    </tr>\n",
       "    <tr>\n",
       "      <th>120</th>\n",
       "      <td>0</td>\n",
       "      <td>0.238284</td>\n",
       "    </tr>\n",
       "  </tbody>\n",
       "</table>\n",
       "<p>121 rows × 2 columns</p>\n",
       "</div>"
      ],
      "text/plain": [
       "     Actual  Predicted\n",
       "0         1   0.387003\n",
       "1         0  -0.108375\n",
       "2         0   0.482515\n",
       "3         0  -0.048335\n",
       "4         0  -0.172797\n",
       "..      ...        ...\n",
       "116       0   0.209869\n",
       "117       0   0.325015\n",
       "118       0  -0.106579\n",
       "119       0   0.066409\n",
       "120       0   0.238284\n",
       "\n",
       "[121 rows x 2 columns]"
      ]
     },
     "execution_count": 14,
     "metadata": {},
     "output_type": "execute_result"
    }
   ],
   "source": [
    "df = pd.DataFrame({'Actual': y_test, 'Predicted': y_pred})\n",
    "df"
   ]
  },
  {
   "cell_type": "markdown",
   "metadata": {},
   "source": [
    "# Logistic Regression"
   ]
  },
  {
   "cell_type": "code",
   "execution_count": 15,
   "metadata": {},
   "outputs": [
    {
     "data": {
      "text/plain": [
       "LogisticRegression(C=1.0, class_weight=None, dual=False, fit_intercept=True,\n",
       "                   intercept_scaling=1, l1_ratio=None, max_iter=100,\n",
       "                   multi_class='auto', n_jobs=None, penalty='l2',\n",
       "                   random_state=0, solver='lbfgs', tol=0.0001, verbose=0,\n",
       "                   warm_start=False)"
      ]
     },
     "execution_count": 15,
     "metadata": {},
     "output_type": "execute_result"
    }
   ],
   "source": [
    "# Fitting Logistic Regression to the Training set\n",
    "from sklearn.linear_model import LogisticRegression\n",
    "classifier = LogisticRegression(random_state = 0)\n",
    "classifier.fit(X_train, y_train)"
   ]
  },
  {
   "cell_type": "code",
   "execution_count": 16,
   "metadata": {},
   "outputs": [],
   "source": [
    "# Predicting the Test set results\n",
    "y_pred = (classifier.predict_proba(X_test)[:,1] >= 0.7)"
   ]
  },
  {
   "cell_type": "code",
   "execution_count": 17,
   "metadata": {},
   "outputs": [
    {
     "data": {
      "text/plain": [
       "array([[103,   2],\n",
       "       [  9,   7]], dtype=int64)"
      ]
     },
     "execution_count": 17,
     "metadata": {},
     "output_type": "execute_result"
    }
   ],
   "source": [
    "# Making the Confusion Matrix\n",
    "from sklearn.metrics import confusion_matrix\n",
    "cm = confusion_matrix(y_test, y_pred)\n",
    "cm"
   ]
  },
  {
   "cell_type": "code",
   "execution_count": 18,
   "metadata": {},
   "outputs": [
    {
     "data": {
      "text/plain": [
       "0.9090909090909091"
      ]
     },
     "execution_count": 18,
     "metadata": {},
     "output_type": "execute_result"
    }
   ],
   "source": [
    "def accuracy(confusion_matrix):\n",
    "    diagonal_sum = confusion_matrix.trace()\n",
    "    sum_of_all_elements = confusion_matrix.sum()\n",
    "    return diagonal_sum / sum_of_all_elements \n",
    "\n",
    "accuracy(cm) "
   ]
  },
  {
   "cell_type": "code",
   "execution_count": 19,
   "metadata": {},
   "outputs": [
    {
     "name": "stdout",
     "output_type": "stream",
     "text": [
      "Confusion matrix, without normalization\n",
      "[[100   5]\n",
      " [  7   9]]\n",
      "Normalized confusion matrix\n",
      "[[0.95238095 0.04761905]\n",
      " [0.4375     0.5625    ]]\n"
     ]
    },
    {
     "data": {
      "image/png": "[encoded data removed]",
      "text/plain": [
       "<Figure size 432x288 with 2 Axes>"
      ]
     },
     "metadata": {
      "needs_background": "light"
     },
     "output_type": "display_data"
    },
    {
     "data": {
      "image/png": "[encoded data removed]",
      "text/plain": [
       "<Figure size 432x288 with 2 Axes>"
      ]
     },
     "metadata": {
      "needs_background": "light"
     },
     "output_type": "display_data"
    }
   ],
   "source": [
    "# Plot non-normalized confusion matrix\n",
    "from sklearn.metrics import plot_confusion_matrix\n",
    "titles_options = [(\"Confusion matrix, without normalization\", None),\n",
    "                  (\"Normalized confusion matrix\", 'true')]\n",
    "for title, normalize in titles_options:\n",
    "    disp = plot_confusion_matrix(classifier, X_test, y_test,\n",
    "                                 display_labels=[0,1],\n",
    "                                 cmap=plt.cm.Blues,\n",
    "                                 normalize=normalize)\n",
    "    disp.ax_.set_title(title)\n",
    "\n",
    "    print(title)\n",
    "    print(disp.confusion_matrix)\n",
    "\n",
    "plt.show()"
   ]
  },
  {
   "cell_type": "markdown",
   "metadata": {},
   "source": [
    "# Support Vector Machine(SVM) "
   ]
  },
  {
   "cell_type": "code",
   "execution_count": 20,
   "metadata": {},
   "outputs": [
    {
     "data": {
      "text/plain": [
       "SVC(C=1.0, break_ties=False, cache_size=200, class_weight=None, coef0=0.0,\n",
       "    decision_function_shape='ovr', degree=3, gamma='scale', kernel='linear',\n",
       "    max_iter=-1, probability=True, random_state=0, shrinking=True, tol=0.001,\n",
       "    verbose=False)"
      ]
     },
     "execution_count": 20,
     "metadata": {},
     "output_type": "execute_result"
    }
   ],
   "source": [
    "# Fitting SVM to the Training set\n",
    "from sklearn.svm import SVC\n",
    "classifier = SVC(kernel = 'linear', random_state = 0,probability= True)\n",
    "classifier.fit(X_train, y_train)"
   ]
  },
  {
   "cell_type": "code",
   "execution_count": 21,
   "metadata": {},
   "outputs": [],
   "source": [
    "# Predicting the Test set results\n",
    "y_pred = (classifier.predict_proba(X_test)[:,1] >= 0.7)"
   ]
  },
  {
   "cell_type": "code",
   "execution_count": 22,
   "metadata": {},
   "outputs": [
    {
     "data": {
      "text/plain": [
       "array([[105,   0],\n",
       "       [ 11,   5]], dtype=int64)"
      ]
     },
     "execution_count": 22,
     "metadata": {},
     "output_type": "execute_result"
    }
   ],
   "source": [
    "# Making the Confusion Matrix\n",
    "from sklearn.metrics import confusion_matrix\n",
    "cm = confusion_matrix(y_test, y_pred)\n",
    "cm"
   ]
  },
  {
   "cell_type": "code",
   "execution_count": 23,
   "metadata": {},
   "outputs": [
    {
     "data": {
      "text/plain": [
       "0.9090909090909091"
      ]
     },
     "execution_count": 23,
     "metadata": {},
     "output_type": "execute_result"
    }
   ],
   "source": [
    "def accuracy(confusion_matrix):\n",
    "    diagonal_sum = confusion_matrix.trace()\n",
    "    sum_of_all_elements = confusion_matrix.sum()\n",
    "    return diagonal_sum / sum_of_all_elements \n",
    "\n",
    "accuracy(cm) "
   ]
  },
  {
   "cell_type": "code",
   "execution_count": 24,
   "metadata": {},
   "outputs": [
    {
     "name": "stdout",
     "output_type": "stream",
     "text": [
      "Confusion matrix, without normalization\n",
      "[[101   4]\n",
      " [  8   8]]\n",
      "Normalized confusion matrix\n",
      "[[0.96190476 0.03809524]\n",
      " [0.5        0.5       ]]\n"
     ]
    },
    {
     "data": {
      "image/png": "[encoded data removed]",
      "text/plain": [
       "<Figure size 432x288 with 2 Axes>"
      ]
     },
     "metadata": {
      "needs_background": "light"
     },
     "output_type": "display_data"
    },
    {
     "data": {
      "image/png": "[encoded data removed]",
      "text/plain": [
       "<Figure size 432x288 with 2 Axes>"
      ]
     },
     "metadata": {
      "needs_background": "light"
     },
     "output_type": "display_data"
    }
   ],
   "source": [
    "# Plot non-normalized confusion matrix\n",
    "from sklearn.metrics import plot_confusion_matrix\n",
    "titles_options = [(\"Confusion matrix, without normalization\", None),\n",
    "                  (\"Normalized confusion matrix\", 'true')]\n",
    "for title, normalize in titles_options:\n",
    "    disp = plot_confusion_matrix(classifier, X_test, y_test,\n",
    "                                 display_labels=[0,1],\n",
    "                                 cmap=plt.cm.Blues,\n",
    "                                 normalize=normalize)\n",
    "    disp.ax_.set_title(title)\n",
    "\n",
    "    print(title)\n",
    "    print(disp.confusion_matrix)\n",
    "\n",
    "plt.show()"
   ]
  },
  {
   "cell_type": "markdown",
   "metadata": {},
   "source": [
    "# Random Forest"
   ]
  },
  {
   "cell_type": "code",
   "execution_count": 25,
   "metadata": {
    "scrolled": true
   },
   "outputs": [
    {
     "data": {
      "text/plain": [
       "RandomForestClassifier(bootstrap=True, ccp_alpha=0.0, class_weight=None,\n",
       "                       criterion='entropy', max_depth=None, max_features='auto',\n",
       "                       max_leaf_nodes=None, max_samples=None,\n",
       "                       min_impurity_decrease=0.0, min_impurity_split=None,\n",
       "                       min_samples_leaf=1, min_samples_split=2,\n",
       "                       min_weight_fraction_leaf=0.0, n_estimators=10,\n",
       "                       n_jobs=None, oob_score=False, random_state=0, verbose=0,\n",
       "                       warm_start=False)"
      ]
     },
     "execution_count": 25,
     "metadata": {},
     "output_type": "execute_result"
    }
   ],
   "source": [
    "# Fitting Random Forest Classification to the Training set\n",
    "from sklearn.ensemble import RandomForestClassifier\n",
    "classifier = RandomForestClassifier(n_estimators = 10, criterion = 'entropy', random_state = 0)\n",
    "classifier.fit(X_train, y_train)"
   ]
  },
  {
   "cell_type": "code",
   "execution_count": 26,
   "metadata": {},
   "outputs": [],
   "source": [
    "# Predicting the Test set results\n",
    "y_pred = (classifier.predict_proba(X_test)[:,1] >= 0.7)"
   ]
  },
  {
   "cell_type": "code",
   "execution_count": 27,
   "metadata": {},
   "outputs": [
    {
     "data": {
      "text/plain": [
       "array([[104,   1],\n",
       "       [ 11,   5]], dtype=int64)"
      ]
     },
     "execution_count": 27,
     "metadata": {},
     "output_type": "execute_result"
    }
   ],
   "source": [
    "# Making the Confusion Matrix\n",
    "from sklearn.metrics import confusion_matrix\n",
    "cm = confusion_matrix(y_test, y_pred)\n",
    "cm"
   ]
  },
  {
   "cell_type": "code",
   "execution_count": 28,
   "metadata": {},
   "outputs": [
    {
     "data": {
      "text/plain": [
       "0.9008264462809917"
      ]
     },
     "execution_count": 28,
     "metadata": {},
     "output_type": "execute_result"
    }
   ],
   "source": [
    "def accuracy(confusion_matrix):\n",
    "    diagonal_sum = confusion_matrix.trace()\n",
    "    sum_of_all_elements = confusion_matrix.sum()\n",
    "    return diagonal_sum / sum_of_all_elements \n",
    "\n",
    "accuracy(cm) "
   ]
  },
  {
   "cell_type": "code",
   "execution_count": 29,
   "metadata": {},
   "outputs": [
    {
     "name": "stdout",
     "output_type": "stream",
     "text": [
      "Confusion matrix, without normalization\n",
      "[[104   1]\n",
      " [  9   7]]\n",
      "Normalized confusion matrix\n",
      "[[0.99047619 0.00952381]\n",
      " [0.5625     0.4375    ]]\n"
     ]
    },
    {
     "data": {
      "image/png": "[encoded data removed]",
      "text/plain": [
       "<Figure size 432x288 with 2 Axes>"
      ]
     },
     "metadata": {
      "needs_background": "light"
     },
     "output_type": "display_data"
    },
    {
     "data": {
      "image/png": "[encoded data removed]",
      "text/plain": [
       "<Figure size 432x288 with 2 Axes>"
      ]
     },
     "metadata": {
      "needs_background": "light"
     },
     "output_type": "display_data"
    }
   ],
   "source": [
    "# Plot non-normalized confusion matrix\n",
    "from sklearn.metrics import plot_confusion_matrix\n",
    "titles_options = [(\"Confusion matrix, without normalization\", None),\n",
    "                  (\"Normalized confusion matrix\", 'true')]\n",
    "for title, normalize in titles_options:\n",
    "    disp = plot_confusion_matrix(classifier, X_test, y_test,\n",
    "                                 display_labels=[0,1],\n",
    "                                 cmap=plt.cm.Blues,\n",
    "                                 normalize=normalize)\n",
    "    disp.ax_.set_title(title)\n",
    "\n",
    "    print(title)\n",
    "    print(disp.confusion_matrix)\n",
    "\n",
    "plt.show()"
   ]
  },
  {
   "cell_type": "markdown",
   "metadata": {},
   "source": [
    "# Neural Network "
   ]
  },
  {
   "cell_type": "code",
   "execution_count": 31,
   "metadata": {},
   "outputs": [],
   "source": [
    "from sklearn.utils import shuffle\n",
    "import tensorflow as tf\n",
    "data = pd.read_csv('coroml.csv')\n",
    "data = shuffle(data, random_state = 42)\n",
    "\n",
    "X = data.iloc[:, 1:-1].values\n",
    "Y = data.iloc[:,-1].values\n",
    "\n",
    "#missing data \n",
    "\n",
    "imputer = SimpleImputer(missing_values=np.nan, strategy='mean')\n",
    "imputer = imputer.fit(X[:, :-1])\n",
    "X[:, :-1] = imputer.transform(X[:, :-1])\n",
    "\n",
    "\n",
    "trainX, testX, trainY, testY = train_test_split(X, Y, test_size = 0.3, random_state = 24)\n",
    "\n",
    "\n",
    "#feature scaling\n",
    "sc = StandardScaler()\n",
    "trainX = sc.fit_transform(trainX)\n",
    "testX = sc.transform(testX)\n",
    "\n",
    "\n",
    "trainY = tf.one_hot(trainY, depth=2)\n",
    "testY = tf.one_hot(testY, depth=2)"
   ]
  },
  {
   "cell_type": "code",
   "execution_count": 32,
   "metadata": {},
   "outputs": [],
   "source": [
    "# ANN model\n",
    "import tensorflow as tf\n",
    "model = tf.keras.models.Sequential()\n",
    "model.add(tf.keras.layers.Dense(32,activation='sigmoid',input_dim=15))\n",
    "model.add(tf.keras.layers.Dropout(0.2))\n",
    "model.add(tf.keras.layers.LeakyReLU(alpha=0.1))\n",
    "model.add(tf.keras.layers.Dense(16, activation='sigmoid'))\n",
    "\n",
    "model.add(tf.keras.layers.Dropout(0.1))\n",
    "model.add(tf.keras.layers.Dense(8, activation='sigmoid'))\n",
    "model.add(tf.keras.layers.Dense(2, activation='sigmoid'))\n",
    "\n",
    "opt = tf.keras.optimizers.Adam(learning_rate=0.01)\n",
    "#opt = tf.keras.optimizers.RMSprop(learning_rate=0.0001)  \n",
    "#opt = tf.keras.optimizers.SGD(learning_rate=0.01, momentum=0.9, nesterov=True, name=\"SGD\")\n",
    "\n",
    "\n",
    "model.compile(loss='categorical_crossentropy', optimizer=opt,metrics=[\"accuracy\"])"
   ]
  },
  {
   "cell_type": "code",
   "execution_count": 33,
   "metadata": {},
   "outputs": [
    {
     "name": "stdout",
     "output_type": "stream",
     "text": [
      "Epoch 1/190\n",
      "14/14 [==============================] - 1s 36ms/step - loss: 0.4370 - accuracy: 0.8575 - val_loss: 0.4113 - val_accuracy: 0.8575\n",
      "Epoch 2/190\n",
      "14/14 [==============================] - 0s 9ms/step - loss: 0.4125 - accuracy: 0.8575 - val_loss: 0.3997 - val_accuracy: 0.8575\n",
      "Epoch 3/190\n",
      "14/14 [==============================] - 0s 9ms/step - loss: 0.3939 - accuracy: 0.8575 - val_loss: 0.3858 - val_accuracy: 0.8575\n",
      "Epoch 4/190\n",
      "14/14 [==============================] - 0s 9ms/step - loss: 0.3793 - accuracy: 0.8575 - val_loss: 0.3563 - val_accuracy: 0.8575\n",
      "Epoch 5/190\n",
      "14/14 [==============================] - 0s 10ms/step - loss: 0.3440 - accuracy: 0.8575 - val_loss: 0.3190 - val_accuracy: 0.8575\n",
      "Epoch 6/190\n",
      "14/14 [==============================] - 0s 9ms/step - loss: 0.3108 - accuracy: 0.8575 - val_loss: 0.2916 - val_accuracy: 0.8575\n",
      "Epoch 7/190\n",
      "14/14 [==============================] - 0s 9ms/step - loss: 0.2965 - accuracy: 0.8599 - val_loss: 0.2811 - val_accuracy: 0.8575\n",
      "Epoch 8/190\n",
      "14/14 [==============================] - 0s 9ms/step - loss: 0.2879 - accuracy: 0.8717 - val_loss: 0.2758 - val_accuracy: 0.8789\n",
      "Epoch 9/190\n",
      "14/14 [==============================] - 0s 10ms/step - loss: 0.2861 - accuracy: 0.8741 - val_loss: 0.2721 - val_accuracy: 0.8931\n",
      "Epoch 10/190\n",
      "14/14 [==============================] - 0s 10ms/step - loss: 0.2970 - accuracy: 0.8670 - val_loss: 0.2726 - val_accuracy: 0.8860\n",
      "Epoch 11/190\n",
      "14/14 [==============================] - 0s 10ms/step - loss: 0.2846 - accuracy: 0.8717 - val_loss: 0.2729 - val_accuracy: 0.8789\n",
      "Epoch 12/190\n",
      "14/14 [==============================] - 0s 9ms/step - loss: 0.2830 - accuracy: 0.8765 - val_loss: 0.2675 - val_accuracy: 0.8860\n",
      "Epoch 13/190\n",
      "14/14 [==============================] - 0s 10ms/step - loss: 0.2862 - accuracy: 0.8717 - val_loss: 0.2651 - val_accuracy: 0.8907\n",
      "Epoch 14/190\n",
      "14/14 [==============================] - 0s 10ms/step - loss: 0.2742 - accuracy: 0.8741 - val_loss: 0.2641 - val_accuracy: 0.8955\n",
      "Epoch 15/190\n",
      "14/14 [==============================] - 0s 10ms/step - loss: 0.2675 - accuracy: 0.9026 - val_loss: 0.2626 - val_accuracy: 0.8979\n",
      "Epoch 16/190\n",
      "14/14 [==============================] - 0s 9ms/step - loss: 0.2698 - accuracy: 0.9026 - val_loss: 0.2565 - val_accuracy: 0.9002\n",
      "Epoch 17/190\n",
      "14/14 [==============================] - 0s 10ms/step - loss: 0.2624 - accuracy: 0.8931 - val_loss: 0.2535 - val_accuracy: 0.9002\n",
      "Epoch 18/190\n",
      "14/14 [==============================] - 0s 10ms/step - loss: 0.2680 - accuracy: 0.9002 - val_loss: 0.2520 - val_accuracy: 0.9002\n",
      "Epoch 19/190\n",
      "14/14 [==============================] - 0s 12ms/step - loss: 0.2605 - accuracy: 0.8931 - val_loss: 0.2490 - val_accuracy: 0.9050\n",
      "Epoch 20/190\n",
      "14/14 [==============================] - 0s 9ms/step - loss: 0.2625 - accuracy: 0.8979 - val_loss: 0.2469 - val_accuracy: 0.9050\n",
      "Epoch 21/190\n",
      "14/14 [==============================] - 0s 9ms/step - loss: 0.2627 - accuracy: 0.8955 - val_loss: 0.2444 - val_accuracy: 0.9026\n",
      "Epoch 22/190\n",
      "14/14 [==============================] - 0s 9ms/step - loss: 0.2601 - accuracy: 0.9074 - val_loss: 0.2425 - val_accuracy: 0.9145\n",
      "Epoch 23/190\n",
      "14/14 [==============================] - 0s 9ms/step - loss: 0.2551 - accuracy: 0.9002 - val_loss: 0.2380 - val_accuracy: 0.9097\n",
      "Epoch 24/190\n",
      "14/14 [==============================] - 0s 10ms/step - loss: 0.2444 - accuracy: 0.9026 - val_loss: 0.2356 - val_accuracy: 0.9097\n",
      "Epoch 25/190\n",
      "14/14 [==============================] - 0s 9ms/step - loss: 0.2409 - accuracy: 0.9097 - val_loss: 0.2368 - val_accuracy: 0.9145\n",
      "Epoch 26/190\n",
      "14/14 [==============================] - 0s 9ms/step - loss: 0.2379 - accuracy: 0.9145 - val_loss: 0.2287 - val_accuracy: 0.9121\n",
      "Epoch 27/190\n",
      "14/14 [==============================] - 0s 10ms/step - loss: 0.2570 - accuracy: 0.8931 - val_loss: 0.2280 - val_accuracy: 0.9192\n",
      "Epoch 28/190\n",
      "14/14 [==============================] - 0s 10ms/step - loss: 0.2460 - accuracy: 0.9074 - val_loss: 0.2274 - val_accuracy: 0.9145\n",
      "Epoch 29/190\n",
      "14/14 [==============================] - 0s 9ms/step - loss: 0.2347 - accuracy: 0.9097 - val_loss: 0.2220 - val_accuracy: 0.9169\n",
      "Epoch 30/190\n",
      "14/14 [==============================] - 0s 10ms/step - loss: 0.2475 - accuracy: 0.9026 - val_loss: 0.2183 - val_accuracy: 0.9169\n",
      "Epoch 31/190\n",
      "14/14 [==============================] - 0s 9ms/step - loss: 0.2353 - accuracy: 0.9121 - val_loss: 0.2182 - val_accuracy: 0.9192\n",
      "Epoch 32/190\n",
      "14/14 [==============================] - 0s 9ms/step - loss: 0.2233 - accuracy: 0.9192 - val_loss: 0.2150 - val_accuracy: 0.9169\n",
      "Epoch 33/190\n",
      "14/14 [==============================] - 0s 9ms/step - loss: 0.2349 - accuracy: 0.9097 - val_loss: 0.2116 - val_accuracy: 0.9169\n",
      "Epoch 34/190\n",
      "14/14 [==============================] - 0s 9ms/step - loss: 0.2365 - accuracy: 0.9050 - val_loss: 0.2090 - val_accuracy: 0.9264\n",
      "Epoch 35/190\n",
      "14/14 [==============================] - 0s 9ms/step - loss: 0.2071 - accuracy: 0.9311 - val_loss: 0.2069 - val_accuracy: 0.9192\n",
      "Epoch 36/190\n",
      "14/14 [==============================] - 0s 9ms/step - loss: 0.2241 - accuracy: 0.9145 - val_loss: 0.2031 - val_accuracy: 0.9240\n",
      "Epoch 37/190\n",
      "14/14 [==============================] - 0s 9ms/step - loss: 0.2266 - accuracy: 0.9121 - val_loss: 0.2038 - val_accuracy: 0.9216\n",
      "Epoch 38/190\n",
      "14/14 [==============================] - 0s 10ms/step - loss: 0.2165 - accuracy: 0.9145 - val_loss: 0.1991 - val_accuracy: 0.9240\n",
      "Epoch 39/190\n",
      "14/14 [==============================] - 0s 10ms/step - loss: 0.2078 - accuracy: 0.9287 - val_loss: 0.1968 - val_accuracy: 0.9216\n",
      "Epoch 40/190\n",
      "14/14 [==============================] - 0s 11ms/step - loss: 0.2222 - accuracy: 0.9264 - val_loss: 0.1966 - val_accuracy: 0.9264\n",
      "Epoch 41/190\n",
      "14/14 [==============================] - 0s 10ms/step - loss: 0.2176 - accuracy: 0.9216 - val_loss: 0.1945 - val_accuracy: 0.9264\n",
      "Epoch 42/190\n",
      "14/14 [==============================] - 0s 11ms/step - loss: 0.2021 - accuracy: 0.9264 - val_loss: 0.1920 - val_accuracy: 0.9311\n",
      "Epoch 43/190\n",
      "14/14 [==============================] - 0s 10ms/step - loss: 0.2178 - accuracy: 0.9169 - val_loss: 0.1905 - val_accuracy: 0.9264\n",
      "Epoch 44/190\n",
      "14/14 [==============================] - 0s 10ms/step - loss: 0.2061 - accuracy: 0.9240 - val_loss: 0.1898 - val_accuracy: 0.9264\n",
      "Epoch 45/190\n",
      "14/14 [==============================] - 0s 9ms/step - loss: 0.1960 - accuracy: 0.9145 - val_loss: 0.1866 - val_accuracy: 0.9287\n",
      "Epoch 46/190\n",
      "14/14 [==============================] - 0s 9ms/step - loss: 0.2215 - accuracy: 0.9145 - val_loss: 0.1864 - val_accuracy: 0.9264\n",
      "Epoch 47/190\n",
      "14/14 [==============================] - 0s 10ms/step - loss: 0.2068 - accuracy: 0.9240 - val_loss: 0.1882 - val_accuracy: 0.9335\n",
      "Epoch 48/190\n",
      "14/14 [==============================] - 0s 10ms/step - loss: 0.2035 - accuracy: 0.9240 - val_loss: 0.1841 - val_accuracy: 0.9287\n",
      "Epoch 49/190\n",
      "14/14 [==============================] - 0s 9ms/step - loss: 0.1949 - accuracy: 0.9240 - val_loss: 0.1789 - val_accuracy: 0.9287\n",
      "Epoch 50/190\n",
      "14/14 [==============================] - 0s 9ms/step - loss: 0.1841 - accuracy: 0.9311 - val_loss: 0.1770 - val_accuracy: 0.9382\n",
      "Epoch 51/190\n",
      "14/14 [==============================] - 0s 9ms/step - loss: 0.1917 - accuracy: 0.9264 - val_loss: 0.1760 - val_accuracy: 0.9382\n",
      "Epoch 52/190\n",
      "14/14 [==============================] - 0s 9ms/step - loss: 0.1923 - accuracy: 0.9311 - val_loss: 0.1743 - val_accuracy: 0.9406\n",
      "Epoch 53/190\n",
      "14/14 [==============================] - 0s 9ms/step - loss: 0.1946 - accuracy: 0.9287 - val_loss: 0.1761 - val_accuracy: 0.9359\n",
      "Epoch 54/190\n",
      "14/14 [==============================] - 0s 9ms/step - loss: 0.1908 - accuracy: 0.9240 - val_loss: 0.1712 - val_accuracy: 0.9406\n",
      "Epoch 55/190\n",
      "14/14 [==============================] - 0s 9ms/step - loss: 0.2005 - accuracy: 0.9240 - val_loss: 0.1745 - val_accuracy: 0.9359\n",
      "Epoch 56/190\n",
      "14/14 [==============================] - 0s 10ms/step - loss: 0.2002 - accuracy: 0.9216 - val_loss: 0.1710 - val_accuracy: 0.9359\n",
      "Epoch 57/190\n",
      "14/14 [==============================] - 0s 10ms/step - loss: 0.1826 - accuracy: 0.9335 - val_loss: 0.1661 - val_accuracy: 0.9406\n",
      "Epoch 58/190\n"
     ]
    },
    {
     "name": "stdout",
     "output_type": "stream",
     "text": [
      "14/14 [==============================] - 0s 9ms/step - loss: 0.1900 - accuracy: 0.9192 - val_loss: 0.1641 - val_accuracy: 0.9406\n",
      "Epoch 59/190\n",
      "14/14 [==============================] - 0s 9ms/step - loss: 0.1862 - accuracy: 0.9311 - val_loss: 0.1637 - val_accuracy: 0.9454\n",
      "Epoch 60/190\n",
      "14/14 [==============================] - 0s 11ms/step - loss: 0.1945 - accuracy: 0.9335 - val_loss: 0.1634 - val_accuracy: 0.9382\n",
      "Epoch 61/190\n",
      "14/14 [==============================] - 0s 9ms/step - loss: 0.1747 - accuracy: 0.9264 - val_loss: 0.1565 - val_accuracy: 0.9430\n",
      "Epoch 62/190\n",
      "14/14 [==============================] - 0s 9ms/step - loss: 0.1867 - accuracy: 0.9311 - val_loss: 0.1613 - val_accuracy: 0.9382\n",
      "Epoch 63/190\n",
      "14/14 [==============================] - 0s 9ms/step - loss: 0.1735 - accuracy: 0.9311 - val_loss: 0.1540 - val_accuracy: 0.9454\n",
      "Epoch 64/190\n",
      "14/14 [==============================] - 0s 9ms/step - loss: 0.1859 - accuracy: 0.9169 - val_loss: 0.1525 - val_accuracy: 0.9382\n",
      "Epoch 65/190\n",
      "14/14 [==============================] - 0s 9ms/step - loss: 0.1917 - accuracy: 0.9192 - val_loss: 0.1526 - val_accuracy: 0.9454\n",
      "Epoch 66/190\n",
      "14/14 [==============================] - 0s 9ms/step - loss: 0.1722 - accuracy: 0.9335 - val_loss: 0.1518 - val_accuracy: 0.9406\n",
      "Epoch 67/190\n",
      "14/14 [==============================] - 0s 9ms/step - loss: 0.1593 - accuracy: 0.9382 - val_loss: 0.1458 - val_accuracy: 0.9406\n",
      "Epoch 68/190\n",
      "14/14 [==============================] - 0s 9ms/step - loss: 0.1736 - accuracy: 0.9264 - val_loss: 0.1436 - val_accuracy: 0.9454\n",
      "Epoch 69/190\n",
      "14/14 [==============================] - 0s 9ms/step - loss: 0.1765 - accuracy: 0.9240 - val_loss: 0.1435 - val_accuracy: 0.9406\n",
      "Epoch 70/190\n",
      "14/14 [==============================] - 0s 21ms/step - loss: 0.1742 - accuracy: 0.9311 - val_loss: 0.1461 - val_accuracy: 0.9430\n",
      "Epoch 71/190\n",
      "14/14 [==============================] - 0s 9ms/step - loss: 0.1815 - accuracy: 0.9264 - val_loss: 0.1437 - val_accuracy: 0.9454\n",
      "Epoch 72/190\n",
      "14/14 [==============================] - 0s 9ms/step - loss: 0.1664 - accuracy: 0.9359 - val_loss: 0.1408 - val_accuracy: 0.9454\n",
      "Epoch 73/190\n",
      "14/14 [==============================] - 0s 9ms/step - loss: 0.1604 - accuracy: 0.9335 - val_loss: 0.1387 - val_accuracy: 0.9454\n",
      "Epoch 74/190\n",
      "14/14 [==============================] - 0s 9ms/step - loss: 0.1757 - accuracy: 0.9382 - val_loss: 0.1361 - val_accuracy: 0.9430\n",
      "Epoch 75/190\n",
      "14/14 [==============================] - 0s 9ms/step - loss: 0.1635 - accuracy: 0.9359 - val_loss: 0.1365 - val_accuracy: 0.9477\n",
      "Epoch 76/190\n",
      "14/14 [==============================] - 0s 9ms/step - loss: 0.1523 - accuracy: 0.9477 - val_loss: 0.1325 - val_accuracy: 0.9477\n",
      "Epoch 77/190\n",
      "14/14 [==============================] - 0s 9ms/step - loss: 0.1564 - accuracy: 0.9406 - val_loss: 0.1304 - val_accuracy: 0.9477\n",
      "Epoch 78/190\n",
      "14/14 [==============================] - 0s 9ms/step - loss: 0.1617 - accuracy: 0.9359 - val_loss: 0.1299 - val_accuracy: 0.9454\n",
      "Epoch 79/190\n",
      "14/14 [==============================] - 0s 10ms/step - loss: 0.1541 - accuracy: 0.9406 - val_loss: 0.1272 - val_accuracy: 0.9477\n",
      "Epoch 80/190\n",
      "14/14 [==============================] - 0s 9ms/step - loss: 0.1402 - accuracy: 0.9382 - val_loss: 0.1273 - val_accuracy: 0.9477\n",
      "Epoch 81/190\n",
      "14/14 [==============================] - 0s 9ms/step - loss: 0.1783 - accuracy: 0.9382 - val_loss: 0.1259 - val_accuracy: 0.9501\n",
      "Epoch 82/190\n",
      "14/14 [==============================] - 0s 9ms/step - loss: 0.1499 - accuracy: 0.9406 - val_loss: 0.1249 - val_accuracy: 0.9477\n",
      "Epoch 83/190\n",
      "14/14 [==============================] - 0s 10ms/step - loss: 0.1483 - accuracy: 0.9382 - val_loss: 0.1212 - val_accuracy: 0.9477\n",
      "Epoch 84/190\n",
      "14/14 [==============================] - 0s 9ms/step - loss: 0.1474 - accuracy: 0.9287 - val_loss: 0.1189 - val_accuracy: 0.9454\n",
      "Epoch 85/190\n",
      "14/14 [==============================] - 0s 10ms/step - loss: 0.1642 - accuracy: 0.9264 - val_loss: 0.1188 - val_accuracy: 0.9477\n",
      "Epoch 86/190\n",
      "14/14 [==============================] - 0s 10ms/step - loss: 0.1421 - accuracy: 0.9406 - val_loss: 0.1168 - val_accuracy: 0.9501\n",
      "Epoch 87/190\n",
      "14/14 [==============================] - 0s 9ms/step - loss: 0.1343 - accuracy: 0.9430 - val_loss: 0.1269 - val_accuracy: 0.9406\n",
      "Epoch 88/190\n",
      "14/14 [==============================] - 0s 10ms/step - loss: 0.1464 - accuracy: 0.9430 - val_loss: 0.1208 - val_accuracy: 0.9454\n",
      "Epoch 89/190\n",
      "14/14 [==============================] - 0s 9ms/step - loss: 0.1545 - accuracy: 0.9359 - val_loss: 0.1166 - val_accuracy: 0.9454\n",
      "Epoch 90/190\n",
      "14/14 [==============================] - 0s 9ms/step - loss: 0.1379 - accuracy: 0.9454 - val_loss: 0.1152 - val_accuracy: 0.9501\n",
      "Epoch 91/190\n",
      "14/14 [==============================] - 0s 9ms/step - loss: 0.1417 - accuracy: 0.9430 - val_loss: 0.1151 - val_accuracy: 0.9477\n",
      "Epoch 92/190\n",
      "14/14 [==============================] - 0s 9ms/step - loss: 0.1485 - accuracy: 0.9406 - val_loss: 0.1133 - val_accuracy: 0.9501\n",
      "Epoch 93/190\n",
      "14/14 [==============================] - 0s 9ms/step - loss: 0.1420 - accuracy: 0.9430 - val_loss: 0.1110 - val_accuracy: 0.9477\n",
      "Epoch 94/190\n",
      "14/14 [==============================] - 0s 9ms/step - loss: 0.1348 - accuracy: 0.9454 - val_loss: 0.1116 - val_accuracy: 0.9549\n",
      "Epoch 95/190\n",
      "14/14 [==============================] - 0s 9ms/step - loss: 0.1347 - accuracy: 0.9454 - val_loss: 0.1091 - val_accuracy: 0.9477\n",
      "Epoch 96/190\n",
      "14/14 [==============================] - 0s 9ms/step - loss: 0.1278 - accuracy: 0.9430 - val_loss: 0.1071 - val_accuracy: 0.9477\n",
      "Epoch 97/190\n",
      "14/14 [==============================] - 0s 9ms/step - loss: 0.1457 - accuracy: 0.9359 - val_loss: 0.1036 - val_accuracy: 0.9525\n",
      "Epoch 98/190\n",
      "14/14 [==============================] - 0s 9ms/step - loss: 0.1289 - accuracy: 0.9454 - val_loss: 0.1024 - val_accuracy: 0.9501\n",
      "Epoch 99/190\n",
      "14/14 [==============================] - 0s 9ms/step - loss: 0.1416 - accuracy: 0.9406 - val_loss: 0.1014 - val_accuracy: 0.9501\n",
      "Epoch 100/190\n",
      "14/14 [==============================] - 0s 9ms/step - loss: 0.1293 - accuracy: 0.9335 - val_loss: 0.1034 - val_accuracy: 0.9501\n",
      "Epoch 101/190\n",
      "14/14 [==============================] - 0s 9ms/step - loss: 0.1242 - accuracy: 0.9430 - val_loss: 0.1018 - val_accuracy: 0.9525\n",
      "Epoch 102/190\n",
      "14/14 [==============================] - 0s 9ms/step - loss: 0.1263 - accuracy: 0.9335 - val_loss: 0.1010 - val_accuracy: 0.9525\n",
      "Epoch 103/190\n",
      "14/14 [==============================] - 0s 9ms/step - loss: 0.1179 - accuracy: 0.9477 - val_loss: 0.1034 - val_accuracy: 0.9501\n",
      "Epoch 104/190\n",
      "14/14 [==============================] - 0s 9ms/step - loss: 0.1387 - accuracy: 0.9406 - val_loss: 0.1003 - val_accuracy: 0.9525\n",
      "Epoch 105/190\n",
      "14/14 [==============================] - 0s 10ms/step - loss: 0.1207 - accuracy: 0.9430 - val_loss: 0.0991 - val_accuracy: 0.9525\n",
      "Epoch 106/190\n",
      "14/14 [==============================] - 0s 10ms/step - loss: 0.1188 - accuracy: 0.9501 - val_loss: 0.0953 - val_accuracy: 0.9525\n",
      "Epoch 107/190\n",
      "14/14 [==============================] - 0s 9ms/step - loss: 0.1238 - accuracy: 0.9430 - val_loss: 0.0912 - val_accuracy: 0.9501\n",
      "Epoch 108/190\n",
      "14/14 [==============================] - 0s 9ms/step - loss: 0.1305 - accuracy: 0.9430 - val_loss: 0.0894 - val_accuracy: 0.9501\n",
      "Epoch 109/190\n",
      "14/14 [==============================] - 0s 9ms/step - loss: 0.1161 - accuracy: 0.9454 - val_loss: 0.0913 - val_accuracy: 0.9501\n",
      "Epoch 110/190\n",
      "14/14 [==============================] - 0s 9ms/step - loss: 0.1171 - accuracy: 0.9501 - val_loss: 0.0865 - val_accuracy: 0.9549\n",
      "Epoch 111/190\n",
      "14/14 [==============================] - 0s 9ms/step - loss: 0.1095 - accuracy: 0.9454 - val_loss: 0.0826 - val_accuracy: 0.9501\n",
      "Epoch 112/190\n",
      "14/14 [==============================] - 0s 9ms/step - loss: 0.1231 - accuracy: 0.9454 - val_loss: 0.0823 - val_accuracy: 0.9620\n",
      "Epoch 113/190\n",
      "14/14 [==============================] - 0s 9ms/step - loss: 0.1228 - accuracy: 0.9525 - val_loss: 0.0827 - val_accuracy: 0.9596\n",
      "Epoch 114/190\n",
      "14/14 [==============================] - 0s 9ms/step - loss: 0.1077 - accuracy: 0.9549 - val_loss: 0.0806 - val_accuracy: 0.9596\n",
      "Epoch 115/190\n"
     ]
    },
    {
     "name": "stdout",
     "output_type": "stream",
     "text": [
      "14/14 [==============================] - 0s 10ms/step - loss: 0.1349 - accuracy: 0.9359 - val_loss: 0.0790 - val_accuracy: 0.9572\n",
      "Epoch 116/190\n",
      "14/14 [==============================] - 0s 9ms/step - loss: 0.0980 - accuracy: 0.9549 - val_loss: 0.0774 - val_accuracy: 0.9549\n",
      "Epoch 117/190\n",
      "14/14 [==============================] - 0s 9ms/step - loss: 0.1123 - accuracy: 0.9477 - val_loss: 0.0750 - val_accuracy: 0.9572\n",
      "Epoch 118/190\n",
      "14/14 [==============================] - 0s 9ms/step - loss: 0.1231 - accuracy: 0.9454 - val_loss: 0.0731 - val_accuracy: 0.9667\n",
      "Epoch 119/190\n",
      "14/14 [==============================] - 0s 9ms/step - loss: 0.1046 - accuracy: 0.9549 - val_loss: 0.0717 - val_accuracy: 0.9620\n",
      "Epoch 120/190\n",
      "14/14 [==============================] - 0s 9ms/step - loss: 0.1088 - accuracy: 0.9477 - val_loss: 0.0722 - val_accuracy: 0.9667\n",
      "Epoch 121/190\n",
      "14/14 [==============================] - 0s 9ms/step - loss: 0.1109 - accuracy: 0.9525 - val_loss: 0.0724 - val_accuracy: 0.9691\n",
      "Epoch 122/190\n",
      "14/14 [==============================] - 0s 9ms/step - loss: 0.0902 - accuracy: 0.9644 - val_loss: 0.0690 - val_accuracy: 0.9691\n",
      "Epoch 123/190\n",
      "14/14 [==============================] - 0s 9ms/step - loss: 0.0991 - accuracy: 0.9620 - val_loss: 0.0701 - val_accuracy: 0.9739\n",
      "Epoch 124/190\n",
      "14/14 [==============================] - 0s 10ms/step - loss: 0.0933 - accuracy: 0.9691 - val_loss: 0.0658 - val_accuracy: 0.9715\n",
      "Epoch 125/190\n",
      "14/14 [==============================] - 0s 9ms/step - loss: 0.1036 - accuracy: 0.9620 - val_loss: 0.0641 - val_accuracy: 0.9739\n",
      "Epoch 126/190\n",
      "14/14 [==============================] - 0s 9ms/step - loss: 0.1191 - accuracy: 0.9501 - val_loss: 0.0617 - val_accuracy: 0.9762\n",
      "Epoch 127/190\n",
      "14/14 [==============================] - 0s 10ms/step - loss: 0.0957 - accuracy: 0.9620 - val_loss: 0.0647 - val_accuracy: 0.9739\n",
      "Epoch 128/190\n",
      "14/14 [==============================] - 0s 9ms/step - loss: 0.0988 - accuracy: 0.9572 - val_loss: 0.0610 - val_accuracy: 0.9810\n",
      "Epoch 129/190\n",
      "14/14 [==============================] - 0s 9ms/step - loss: 0.0988 - accuracy: 0.9620 - val_loss: 0.0600 - val_accuracy: 0.9762\n",
      "Epoch 130/190\n",
      "14/14 [==============================] - 0s 9ms/step - loss: 0.0772 - accuracy: 0.9620 - val_loss: 0.0624 - val_accuracy: 0.9715\n",
      "Epoch 131/190\n",
      "14/14 [==============================] - 0s 9ms/step - loss: 0.1086 - accuracy: 0.9572 - val_loss: 0.0584 - val_accuracy: 0.9715\n",
      "Epoch 132/190\n",
      "14/14 [==============================] - 0s 9ms/step - loss: 0.0862 - accuracy: 0.9691 - val_loss: 0.0601 - val_accuracy: 0.9857\n",
      "Epoch 133/190\n",
      "14/14 [==============================] - 0s 10ms/step - loss: 0.1004 - accuracy: 0.9572 - val_loss: 0.0567 - val_accuracy: 0.9786\n",
      "Epoch 134/190\n",
      "14/14 [==============================] - 0s 10ms/step - loss: 0.0888 - accuracy: 0.9667 - val_loss: 0.0574 - val_accuracy: 0.9834\n",
      "Epoch 135/190\n",
      "14/14 [==============================] - 0s 10ms/step - loss: 0.1054 - accuracy: 0.9525 - val_loss: 0.0648 - val_accuracy: 0.9762\n",
      "Epoch 136/190\n",
      "14/14 [==============================] - 0s 9ms/step - loss: 0.1326 - accuracy: 0.9406 - val_loss: 0.0609 - val_accuracy: 0.9739\n",
      "Epoch 137/190\n",
      "14/14 [==============================] - 0s 9ms/step - loss: 0.0915 - accuracy: 0.9525 - val_loss: 0.0596 - val_accuracy: 0.9739\n",
      "Epoch 138/190\n",
      "14/14 [==============================] - 0s 10ms/step - loss: 0.0883 - accuracy: 0.9620 - val_loss: 0.0558 - val_accuracy: 0.9762\n",
      "Epoch 139/190\n",
      "14/14 [==============================] - 0s 9ms/step - loss: 0.1138 - accuracy: 0.9477 - val_loss: 0.0557 - val_accuracy: 0.9857\n",
      "Epoch 140/190\n",
      "14/14 [==============================] - 0s 9ms/step - loss: 0.0855 - accuracy: 0.9667 - val_loss: 0.0529 - val_accuracy: 0.9834\n",
      "Epoch 141/190\n",
      "14/14 [==============================] - 0s 10ms/step - loss: 0.0753 - accuracy: 0.9644 - val_loss: 0.0579 - val_accuracy: 0.9667\n",
      "Epoch 142/190\n",
      "14/14 [==============================] - 0s 9ms/step - loss: 0.0828 - accuracy: 0.9596 - val_loss: 0.0512 - val_accuracy: 0.9857\n",
      "Epoch 143/190\n",
      "14/14 [==============================] - 0s 10ms/step - loss: 0.0987 - accuracy: 0.9596 - val_loss: 0.0529 - val_accuracy: 0.9810\n",
      "Epoch 144/190\n",
      "14/14 [==============================] - 0s 10ms/step - loss: 0.0890 - accuracy: 0.9620 - val_loss: 0.0485 - val_accuracy: 0.9715\n",
      "Epoch 145/190\n",
      "14/14 [==============================] - 0s 10ms/step - loss: 0.0703 - accuracy: 0.9667 - val_loss: 0.0494 - val_accuracy: 0.9739\n",
      "Epoch 146/190\n",
      "14/14 [==============================] - 0s 9ms/step - loss: 0.0943 - accuracy: 0.9691 - val_loss: 0.0471 - val_accuracy: 0.9810\n",
      "Epoch 147/190\n",
      "14/14 [==============================] - 0s 9ms/step - loss: 0.1104 - accuracy: 0.9620 - val_loss: 0.0560 - val_accuracy: 0.9762\n",
      "Epoch 148/190\n",
      "14/14 [==============================] - 0s 9ms/step - loss: 0.0825 - accuracy: 0.9620 - val_loss: 0.0505 - val_accuracy: 0.9762\n",
      "Epoch 149/190\n",
      "14/14 [==============================] - 0s 9ms/step - loss: 0.0929 - accuracy: 0.9572 - val_loss: 0.0480 - val_accuracy: 0.9810\n",
      "Epoch 150/190\n",
      "14/14 [==============================] - 0s 9ms/step - loss: 0.0655 - accuracy: 0.9715 - val_loss: 0.0484 - val_accuracy: 0.9857\n",
      "Epoch 151/190\n",
      "14/14 [==============================] - 0s 9ms/step - loss: 0.0911 - accuracy: 0.9667 - val_loss: 0.0471 - val_accuracy: 0.9834\n",
      "Epoch 152/190\n",
      "14/14 [==============================] - 0s 10ms/step - loss: 0.0757 - accuracy: 0.9739 - val_loss: 0.0465 - val_accuracy: 0.9857\n",
      "Epoch 153/190\n",
      "14/14 [==============================] - 0s 9ms/step - loss: 0.0900 - accuracy: 0.9620 - val_loss: 0.0453 - val_accuracy: 0.9834\n",
      "Epoch 154/190\n",
      "14/14 [==============================] - 0s 9ms/step - loss: 0.0713 - accuracy: 0.9691 - val_loss: 0.0440 - val_accuracy: 0.9857\n",
      "Epoch 155/190\n",
      "14/14 [==============================] - 0s 9ms/step - loss: 0.0712 - accuracy: 0.9691 - val_loss: 0.0428 - val_accuracy: 0.9881\n",
      "Epoch 156/190\n",
      "14/14 [==============================] - 0s 9ms/step - loss: 0.0864 - accuracy: 0.9691 - val_loss: 0.0436 - val_accuracy: 0.9834\n",
      "Epoch 157/190\n",
      "14/14 [==============================] - 0s 9ms/step - loss: 0.1091 - accuracy: 0.9549 - val_loss: 0.0450 - val_accuracy: 0.9881\n",
      "Epoch 158/190\n",
      "14/14 [==============================] - 0s 9ms/step - loss: 0.0828 - accuracy: 0.9644 - val_loss: 0.0518 - val_accuracy: 0.9739\n",
      "Epoch 159/190\n",
      "14/14 [==============================] - 0s 9ms/step - loss: 0.0735 - accuracy: 0.9644 - val_loss: 0.0437 - val_accuracy: 0.9834\n",
      "Epoch 160/190\n",
      "14/14 [==============================] - 0s 9ms/step - loss: 0.0941 - accuracy: 0.9477 - val_loss: 0.0418 - val_accuracy: 0.9881\n",
      "Epoch 161/190\n",
      "14/14 [==============================] - 0s 10ms/step - loss: 0.0634 - accuracy: 0.9739 - val_loss: 0.0408 - val_accuracy: 0.9881\n",
      "Epoch 162/190\n",
      "14/14 [==============================] - 0s 9ms/step - loss: 0.0815 - accuracy: 0.9715 - val_loss: 0.0406 - val_accuracy: 0.9857\n",
      "Epoch 163/190\n",
      "14/14 [==============================] - 0s 9ms/step - loss: 0.0757 - accuracy: 0.9667 - val_loss: 0.0412 - val_accuracy: 0.9857\n",
      "Epoch 164/190\n",
      "14/14 [==============================] - 0s 9ms/step - loss: 0.0769 - accuracy: 0.9667 - val_loss: 0.0400 - val_accuracy: 0.9881\n",
      "Epoch 165/190\n",
      "14/14 [==============================] - 0s 9ms/step - loss: 0.0961 - accuracy: 0.9691 - val_loss: 0.0427 - val_accuracy: 0.9857\n",
      "Epoch 166/190\n",
      "14/14 [==============================] - 0s 9ms/step - loss: 0.0824 - accuracy: 0.9644 - val_loss: 0.0409 - val_accuracy: 0.9810\n",
      "Epoch 167/190\n",
      "14/14 [==============================] - 0s 10ms/step - loss: 0.0763 - accuracy: 0.9667 - val_loss: 0.0397 - val_accuracy: 0.9881\n",
      "Epoch 168/190\n",
      "14/14 [==============================] - 0s 9ms/step - loss: 0.0839 - accuracy: 0.9691 - val_loss: 0.0380 - val_accuracy: 0.9857\n",
      "Epoch 169/190\n",
      "14/14 [==============================] - 0s 9ms/step - loss: 0.0689 - accuracy: 0.9691 - val_loss: 0.0383 - val_accuracy: 0.9881\n",
      "Epoch 170/190\n",
      "14/14 [==============================] - 0s 9ms/step - loss: 0.0762 - accuracy: 0.9667 - val_loss: 0.0392 - val_accuracy: 0.9857\n",
      "Epoch 171/190\n",
      "14/14 [==============================] - 0s 10ms/step - loss: 0.0724 - accuracy: 0.9715 - val_loss: 0.0379 - val_accuracy: 0.9834\n",
      "Epoch 172/190\n"
     ]
    },
    {
     "name": "stdout",
     "output_type": "stream",
     "text": [
      "14/14 [==============================] - 0s 9ms/step - loss: 0.0973 - accuracy: 0.9549 - val_loss: 0.0384 - val_accuracy: 0.9857\n",
      "Epoch 173/190\n",
      "14/14 [==============================] - 0s 9ms/step - loss: 0.0893 - accuracy: 0.9620 - val_loss: 0.0372 - val_accuracy: 0.9905\n",
      "Epoch 174/190\n",
      "14/14 [==============================] - 0s 9ms/step - loss: 0.0582 - accuracy: 0.9762 - val_loss: 0.0393 - val_accuracy: 0.9857\n",
      "Epoch 175/190\n",
      "14/14 [==============================] - 0s 9ms/step - loss: 0.0540 - accuracy: 0.9857 - val_loss: 0.0365 - val_accuracy: 0.9881\n",
      "Epoch 176/190\n",
      "14/14 [==============================] - 0s 11ms/step - loss: 0.0581 - accuracy: 0.9810 - val_loss: 0.0326 - val_accuracy: 0.9881\n",
      "Epoch 177/190\n",
      "14/14 [==============================] - 0s 10ms/step - loss: 0.0436 - accuracy: 0.9834 - val_loss: 0.0327 - val_accuracy: 0.9929\n",
      "Epoch 178/190\n",
      "14/14 [==============================] - 0s 9ms/step - loss: 0.0609 - accuracy: 0.9691 - val_loss: 0.0331 - val_accuracy: 0.9881\n",
      "Epoch 179/190\n",
      "14/14 [==============================] - 0s 10ms/step - loss: 0.0831 - accuracy: 0.9572 - val_loss: 0.0326 - val_accuracy: 0.9929\n",
      "Epoch 180/190\n",
      "14/14 [==============================] - 0s 11ms/step - loss: 0.0877 - accuracy: 0.9620 - val_loss: 0.0329 - val_accuracy: 0.9929\n",
      "Epoch 181/190\n",
      "14/14 [==============================] - 0s 10ms/step - loss: 0.0825 - accuracy: 0.9691 - val_loss: 0.0328 - val_accuracy: 0.9929\n",
      "Epoch 182/190\n",
      "14/14 [==============================] - 0s 9ms/step - loss: 0.0859 - accuracy: 0.9715 - val_loss: 0.0339 - val_accuracy: 0.9905\n",
      "Epoch 183/190\n",
      "14/14 [==============================] - 0s 9ms/step - loss: 0.0735 - accuracy: 0.9644 - val_loss: 0.0344 - val_accuracy: 0.9905\n",
      "Epoch 184/190\n",
      "14/14 [==============================] - 0s 9ms/step - loss: 0.0630 - accuracy: 0.9810 - val_loss: 0.0317 - val_accuracy: 0.9905\n",
      "Epoch 185/190\n",
      "14/14 [==============================] - 0s 9ms/step - loss: 0.0642 - accuracy: 0.9810 - val_loss: 0.0297 - val_accuracy: 0.9929\n",
      "Epoch 186/190\n",
      "14/14 [==============================] - 0s 9ms/step - loss: 0.0614 - accuracy: 0.9786 - val_loss: 0.0285 - val_accuracy: 0.9929\n",
      "Epoch 187/190\n",
      "14/14 [==============================] - 0s 9ms/step - loss: 0.0777 - accuracy: 0.9786 - val_loss: 0.0299 - val_accuracy: 0.9929\n",
      "Epoch 188/190\n",
      "14/14 [==============================] - 0s 9ms/step - loss: 0.0873 - accuracy: 0.9691 - val_loss: 0.0280 - val_accuracy: 0.9929\n",
      "Epoch 189/190\n",
      "14/14 [==============================] - 0s 9ms/step - loss: 0.0639 - accuracy: 0.9810 - val_loss: 0.0265 - val_accuracy: 0.9952\n",
      "Epoch 190/190\n",
      "14/14 [==============================] - 0s 10ms/step - loss: 0.0604 - accuracy: 0.9786 - val_loss: 0.0281 - val_accuracy: 0.9929\n"
     ]
    }
   ],
   "source": [
    "history = model.fit(trainX, trainY, validation_data=(trainX, trainY), epochs=190, batch_size=32)"
   ]
  },
  {
   "cell_type": "code",
   "execution_count": 34,
   "metadata": {},
   "outputs": [
    {
     "data": {
      "image/png": "[encoded data removed]",
      "text/plain": [
       "<Figure size 432x288 with 1 Axes>"
      ]
     },
     "metadata": {
      "needs_background": "light"
     },
     "output_type": "display_data"
    },
    {
     "data": {
      "text/plain": [
       "<Figure size 432x288 with 0 Axes>"
      ]
     },
     "metadata": {},
     "output_type": "display_data"
    }
   ],
   "source": [
    "#plot loss during training\n",
    "from matplotlib import pyplot\n",
    "pyplot.subplot(211)\n",
    "pyplot.title('Loss')\n",
    "pyplot.plot(history.history['loss'], label='train')\n",
    "pyplot.plot(history.history['val_loss'], label='test')\n",
    "pyplot.ylim()\n",
    "pyplot.legend()\n",
    "pyplot.show()\n",
    "pyplot.savefig('loss.png')"
   ]
  },
  {
   "cell_type": "code",
   "execution_count": 35,
   "metadata": {},
   "outputs": [
    {
     "data": {
      "image/png": "[encoded data removed]",
      "text/plain": [
       "<Figure size 432x288 with 1 Axes>"
      ]
     },
     "metadata": {
      "needs_background": "light"
     },
     "output_type": "display_data"
    }
   ],
   "source": [
    "# plot accuracy during training\n",
    "pyplot.subplot(212)\n",
    "pyplot.title('Accuracy')\n",
    "pyplot.plot(history.history['accuracy'], label='train')\n",
    "pyplot.plot(history.history['val_accuracy'], label='test')\n",
    "pyplot.ylim([0.4,1])\n",
    "pyplot.legend()\n",
    "pyplot.savefig('accuracy.png')"
   ]
  },
  {
   "cell_type": "code",
   "execution_count": 36,
   "metadata": {},
   "outputs": [],
   "source": [
    "# prediction\n",
    "predy = model.predict(testX)\n",
    "\n",
    "from sklearn.metrics import multilabel_confusion_matrix\n",
    "\n",
    "rounded_labels_pred=np.argmax(predy, axis=1)\n",
    "\n",
    "rounded_labels_real=np.argmax(testY, axis=1)"
   ]
  },
  {
   "cell_type": "code",
   "execution_count": 37,
   "metadata": {},
   "outputs": [
    {
     "name": "stdout",
     "output_type": "stream",
     "text": [
      "85.0828729281768\n"
     ]
    }
   ],
   "source": [
    "#accuracy\n",
    "count = 0\n",
    "for result in range(len(rounded_labels_real)):\n",
    "    if rounded_labels_real[result] == rounded_labels_pred[result]:\n",
    "        count += 1\n",
    "accuracy  = count/len(rounded_labels_real)*100\n",
    "print(accuracy) "
   ]
  },
  {
   "cell_type": "code",
   "execution_count": 38,
   "metadata": {},
   "outputs": [
    {
     "name": "stdout",
     "output_type": "stream",
     "text": [
      "[[146  12]\n",
      " [ 15   8]]\n"
     ]
    },
    {
     "ename": "TypeError",
     "evalue": "__init__() missing 1 required positional argument: 'display_labels'",
     "output_type": "error",
     "traceback": [
      "\u001b[1;31m---------------------------------------------------------------------------\u001b[0m",
      "\u001b[1;31mTypeError\u001b[0m                                 Traceback (most recent call last)",
      "\u001b[1;32m<ipython-input-38-46c07fa36d94>\u001b[0m in \u001b[0;36m<module>\u001b[1;34m\u001b[0m\n\u001b[0;32m      5\u001b[0m \u001b[0mcm\u001b[0m \u001b[1;33m=\u001b[0m \u001b[0mconfusion_matrix\u001b[0m\u001b[1;33m(\u001b[0m\u001b[0mrounded_labels_real\u001b[0m\u001b[1;33m,\u001b[0m\u001b[0mrounded_labels_pred\u001b[0m\u001b[1;33m)\u001b[0m\u001b[1;33m\u001b[0m\u001b[1;33m\u001b[0m\u001b[0m\n\u001b[0;32m      6\u001b[0m \u001b[0mprint\u001b[0m\u001b[1;33m(\u001b[0m\u001b[0mcm\u001b[0m\u001b[1;33m)\u001b[0m\u001b[1;33m\u001b[0m\u001b[1;33m\u001b[0m\u001b[0m\n\u001b[1;32m----> 7\u001b[1;33m \u001b[0mcm_display\u001b[0m \u001b[1;33m=\u001b[0m \u001b[0mConfusionMatrixDisplay\u001b[0m\u001b[1;33m(\u001b[0m\u001b[0mcm\u001b[0m\u001b[1;33m)\u001b[0m\u001b[1;33m\u001b[0m\u001b[1;33m\u001b[0m\u001b[0m\n\u001b[0m\u001b[0;32m      8\u001b[0m \u001b[0mcm_display\u001b[0m \u001b[1;33m=\u001b[0m \u001b[0mcm_display\u001b[0m\u001b[1;33m.\u001b[0m\u001b[0mplot\u001b[0m\u001b[1;33m(\u001b[0m\u001b[0mcmap\u001b[0m\u001b[1;33m=\u001b[0m\u001b[0mplt\u001b[0m\u001b[1;33m.\u001b[0m\u001b[0mcm\u001b[0m\u001b[1;33m.\u001b[0m\u001b[0mBlues\u001b[0m\u001b[1;33m,\u001b[0m\u001b[0mvalues_format\u001b[0m\u001b[1;33m=\u001b[0m\u001b[1;34m'g'\u001b[0m\u001b[1;33m)\u001b[0m\u001b[1;33m\u001b[0m\u001b[1;33m\u001b[0m\u001b[0m\n\u001b[0;32m      9\u001b[0m \u001b[0mcm_display\u001b[0m\u001b[1;33m.\u001b[0m\u001b[0max_\u001b[0m\u001b[1;33m.\u001b[0m\u001b[0mset_title\u001b[0m\u001b[1;33m(\u001b[0m\u001b[1;34m\"NN\"\u001b[0m\u001b[1;33m)\u001b[0m\u001b[1;33m\u001b[0m\u001b[1;33m\u001b[0m\u001b[0m\n",
      "\u001b[1;31mTypeError\u001b[0m: __init__() missing 1 required positional argument: 'display_labels'"
     ]
    }
   ],
   "source": [
    "from sklearn.metrics import ConfusionMatrixDisplay\n",
    "from sklearn.metrics import confusion_matrix\n",
    "import matplotlib.pyplot as plt\n",
    "\n",
    "cm = confusion_matrix(rounded_labels_real,rounded_labels_pred)\n",
    "print(cm)\n",
    "cm_display = ConfusionMatrixDisplay(cm)\n",
    "cm_display = cm_display.plot(cmap=plt.cm.Blues,values_format='g')\n",
    "cm_display.ax_.set_title(\"NN\")\n",
    "plt.savefig(\"cm_ANN2\")"
   ]
  },
  {
   "cell_type": "markdown",
   "metadata": {},
   "source": [
    "# Unsupervised Learning"
   ]
  },
  {
   "cell_type": "code",
   "execution_count": 39,
   "metadata": {},
   "outputs": [
    {
     "data": {
      "text/plain": [
       "KMeans(algorithm='auto', copy_x=True, init='k-means++', max_iter=300,\n",
       "       n_clusters=2, n_init=10, n_jobs=None, precompute_distances='auto',\n",
       "       random_state=None, tol=0.0001, verbose=0)"
      ]
     },
     "execution_count": 39,
     "metadata": {},
     "output_type": "execute_result"
    }
   ],
   "source": [
    "# Importing Modules\n",
    "from sklearn import datasets\n",
    "from sklearn.cluster import KMeans\n",
    "from sklearn import preprocessing \n",
    "\n",
    "# Declaring Model\n",
    "model = KMeans(n_clusters=2)\n",
    "                                                     \n",
    "dataset = dataset[[\"Hemoglobin\", \"Platelets\"]]\n",
    "# data normalization\n",
    "dataset = preprocessing.scale(dataset)\n",
    "dataset = pd.DataFrame(dataset)\n",
    "X = dataset.iloc[:, [0,1]].values\n",
    "y = dataset.iloc[:, -1].values\n",
    "y = y.astype('int')\n",
    "\n",
    "X_train, X_test, y_train, y_test = train_test_split( X, y, \n",
    "                    test_size = 0.4, random_state = 1 )\n",
    "\n",
    "model.fit(X_train)"
   ]
  },
  {
   "cell_type": "code",
   "execution_count": 40,
   "metadata": {},
   "outputs": [],
   "source": [
    "# Prediction on the entire data\n",
    "y_pred = model.predict(X_test)"
   ]
  },
  {
   "cell_type": "code",
   "execution_count": 41,
   "metadata": {},
   "outputs": [
    {
     "name": "stdout",
     "output_type": "stream",
     "text": [
      "accuracy =  0.5394190871369294\n"
     ]
    }
   ],
   "source": [
    "p = y_pred.tolist()\n",
    "q = y_test.tolist()\n",
    "count=0\n",
    "for i in range(len(p)):\n",
    "  if p[i]==q[i]:\n",
    "    count = count + 1\n",
    "  \n",
    "print('accuracy = ', count/len(p))"
   ]
  },
  {
   "cell_type": "code",
   "execution_count": 44,
   "metadata": {},
   "outputs": [
    {
     "data": {
      "text/plain": [
       "[<matplotlib.lines.Line2D at 0x23b0b231d48>]"
      ]
     },
     "execution_count": 44,
     "metadata": {},
     "output_type": "execute_result"
    },
    {
     "data": {
      "image/png": "[encoded data removed]",
      "text/plain": [
       "<Figure size 432x288 with 1 Axes>"
      ]
     },
     "metadata": {
      "needs_background": "light"
     },
     "output_type": "display_data"
    }
   ],
   "source": [
    "##########################\n",
    "# The \"elbow\" method #\n",
    "##########################\n",
    "k_range = range(1,10)\n",
    "sse = []\n",
    "for k in k_range:\n",
    "    km = KMeans(n_clusters = k)\n",
    "    km.fit(X)\n",
    "    sse.append(km.inertia_)\n",
    "plt.xlabel(\"K\")\n",
    "plt.ylabel(\"Sum of squared errors\")\n",
    "plt.plot(k_range, sse, marker='o')"
   ]
  },
  {
   "cell_type": "code",
   "execution_count": 45,
   "metadata": {},
   "outputs": [
    {
     "data": {
      "text/plain": [
       "<matplotlib.collections.PathCollection at 0x23b0b2b6588>"
      ]
     },
     "execution_count": 45,
     "metadata": {},
     "output_type": "execute_result"
    },
    {
     "data": {
      "image/png": "[encoded data removed]",
      "text/plain": [
       "<Figure size 432x288 with 1 Axes>"
      ]
     },
     "metadata": {
      "needs_background": "light"
     },
     "output_type": "display_data"
    }
   ],
   "source": [
    "# model\n",
    "km = KMeans(n_clusters = 3)\n",
    "y_km=km.fit_predict(X)\n",
    "# plot the 3 clusters\n",
    "plt.scatter(\n",
    "    X[y_km == 0, 0], X[y_km == 0, 1],\n",
    "    s=50, c='lightgreen',\n",
    "    marker='s', edgecolor='black',\n",
    "    label='cluster 1'\n",
    ")\n",
    "plt.scatter(\n",
    "    X[y_km == 1, 0], X[y_km == 1, 1],\n",
    "    s=50, c='orange',\n",
    "    marker='o', edgecolor='black',\n",
    "    label='cluster 2'\n",
    ")\n",
    "plt.scatter(\n",
    "    X[y_km == 2, 0], X[y_km == 2, 1],\n",
    "    s=50, c='lightblue',\n",
    "    marker='v', edgecolor='black',\n",
    "    label='cluster 3'\n",
    ")"
   ]
  }
 ],
 "metadata": {
  "kernelspec": {
   "display_name": "Python 3",
   "language": "python",
   "name": "python3"
  },
  "language_info": {
   "codemirror_mode": {
    "name": "ipython",
    "version": 3
   },
   "file_extension": ".py",
   "mimetype": "text/x-python",
   "name": "python",
   "nbconvert_exporter": "python",
   "pygments_lexer": "ipython3",
   "version": "3.7.6"
  }
 },
 "nbformat": 4,
 "nbformat_minor": 4
}
